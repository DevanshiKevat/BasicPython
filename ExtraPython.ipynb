{
 "cells": [
  {
   "cell_type": "markdown",
   "id": "74ed64e3-e49d-4221-a8d9-79aa107a8d2c",
   "metadata": {},
   "source": [
    "# Print"
   ]
  },
  {
   "cell_type": "code",
   "execution_count": 3,
   "id": "640528b1-3c7d-467d-b80e-9b604e03afae",
   "metadata": {},
   "outputs": [
    {
     "name": "stdout",
     "output_type": "stream",
     "text": [
      "Devanshi is a manager\n",
      "Hetvi is a friend of Devanshi\n"
     ]
    }
   ],
   "source": [
    "# string formation\n",
    "name = \"Devanshi\"\n",
    "print(\"%s is a manager\"%name)\n",
    "print(\"nirav is a friend of %s\"%name)"
   ]
  },
  {
   "cell_type": "markdown",
   "id": "7d5e968f-3f2f-4b5c-8a71-3c1c93d1419e",
   "metadata": {},
   "source": [
    "# same memory is allocated for same value "
   ]
  },
  {
   "cell_type": "code",
   "execution_count": 7,
   "id": "c71f3eb9-948a-4243-a264-a0c20ca2f30e",
   "metadata": {},
   "outputs": [
    {
     "name": "stdout",
     "output_type": "stream",
     "text": [
      "140731342185384\n",
      "140731342185384\n"
     ]
    }
   ],
   "source": [
    "a = 5\n",
    "b = 5\n",
    "print(id(a))\n",
    "print(id(b))"
   ]
  },
  {
   "cell_type": "markdown",
   "id": "cdf0c771-be47-4066-ab6a-de2094519ed4",
   "metadata": {},
   "source": [
    "# Data Types"
   ]
  },
  {
   "cell_type": "code",
   "execution_count": 16,
   "id": "c1e75d53-a699-4fb4-a642-2ddab73a55bb",
   "metadata": {},
   "outputs": [
    {
     "name": "stdout",
     "output_type": "stream",
     "text": [
      "5 <class 'int'>\n",
      "5.6 <class 'float'>\n",
      "(5+6j) <class 'complex'>\n"
     ]
    }
   ],
   "source": [
    "# int\n",
    "num = 5\n",
    "print(num,type(num))\n",
    "\n",
    "# float\n",
    "num = 5.6\n",
    "print(num,type(num))\n",
    "\n",
    "# complex\n",
    "num = 5 + 6j\n",
    "print(num,type(num))"
   ]
  },
  {
   "cell_type": "markdown",
   "id": "e9cc7aef-097f-4656-b7aa-bb2b000d65f5",
   "metadata": {},
   "source": [
    "# conversions"
   ]
  },
  {
   "cell_type": "code",
   "execution_count": 23,
   "id": "bdaae934-0752-4a38-a7d9-616ee676ef51",
   "metadata": {},
   "outputs": [
    {
     "name": "stdout",
     "output_type": "stream",
     "text": [
      "5 <class 'int'>\n",
      "5.0 <class 'int'>\n",
      "(5+0j) <class 'int'>\n",
      "5 <class 'int'>\n",
      "(5.6+0j) <class 'complex'>\n"
     ]
    }
   ],
   "source": [
    "num = 5\n",
    "print(num,type(num))\n",
    "print(float(num), type(num))\n",
    "print(complex(num),type(num))\n",
    "\n",
    "num = 5.6\n",
    "print(int(num),type(int(num)))\n",
    "print(complex(num),type(complex(num)))"
   ]
  },
  {
   "cell_type": "markdown",
   "id": "e04f949a-f735-467f-8fd4-2403d77945d7",
   "metadata": {},
   "source": [
    "# lists in python"
   ]
  },
  {
   "cell_type": "markdown",
   "id": "caa3cdbd-7e3b-4a6e-bbbf-056df2fd2401",
   "metadata": {},
   "source": [
    "A List is a collection os data.  \n",
    "It can hold values of multiple data types.   \n",
    "created using '[]' brackets\n",
    "It is Mutable.  \n",
    "It allows duplicates in it.  \n",
    "It is Ordered.  \n",
    "\n",
    "used when  \n",
    "-Mutability is Required:  \n",
    "-Dynamic Size:  \n",
    "-Ordered Collection:  \n",
    "-Common Operations:\n"
   ]
  },
  {
   "cell_type": "code",
   "execution_count": 60,
   "id": "b176d6e3-2d6e-4d85-b6e6-51ffc79b1cbf",
   "metadata": {},
   "outputs": [
    {
     "name": "stdout",
     "output_type": "stream",
     "text": [
      "[1, 89, 'A', 'Hey', 'B', 7.8]\n"
     ]
    }
   ],
   "source": [
    "# Create a list\n",
    "list = [1,89,'A',\"Hey\",'B',7.8]\n",
    "print(list)"
   ]
  },
  {
   "cell_type": "code",
   "execution_count": 61,
   "id": "e71a4535-d36d-43c7-8cb9-51edb42866ef",
   "metadata": {},
   "outputs": [
    {
     "name": "stdout",
     "output_type": "stream",
     "text": [
      "1\n",
      "89\n",
      "A\n",
      "Hey\n",
      "B\n",
      "7.8\n"
     ]
    }
   ],
   "source": [
    "# Access the list\n",
    "\n",
    "# print(list[0])\n",
    "# print(list[1])\n",
    "# print(list[-1])\n",
    "\n",
    "for i in list:\n",
    "    print(i)"
   ]
  },
  {
   "cell_type": "code",
   "execution_count": 62,
   "id": "de2af484-3003-4f17-8162-b1134266e5fd",
   "metadata": {},
   "outputs": [
    {
     "name": "stdout",
     "output_type": "stream",
     "text": [
      "['A', 'Hey']\n",
      "[1, 89, 'A']\n",
      "[1, 89, 'A', 'Hey', 'B']\n",
      "[1, 89, 'A']\n",
      "['Hey', 'B', 7.8]\n",
      "[1, 'A', 'B']\n",
      "[7.8, 'B', 'Hey', 'A', 89, 1]\n"
     ]
    }
   ],
   "source": [
    "print(list[2:4]) \n",
    "\n",
    "print(list[:3])\n",
    "\n",
    "print(list[-6:-1])\n",
    "\n",
    "print(list[:-3])\n",
    "\n",
    "print(list[-3:])\n",
    "\n",
    "print(list[::2]) #skip position by 2\n",
    "\n",
    "print(list[::-1]) #reversing list\n"
   ]
  },
  {
   "cell_type": "code",
   "execution_count": 63,
   "id": "de3179c0-6634-4576-a8eb-715ccd506bd0",
   "metadata": {},
   "outputs": [
    {
     "name": "stdout",
     "output_type": "stream",
     "text": [
      "6\n"
     ]
    }
   ],
   "source": [
    "# Length of the list\n",
    "print(len(list))"
   ]
  },
  {
   "cell_type": "markdown",
   "id": "aecb9162-558e-4f31-9439-9c8e9892764d",
   "metadata": {},
   "source": [
    "# Functions of list"
   ]
  },
  {
   "cell_type": "code",
   "execution_count": 177,
   "id": "5bc215d0-baf9-475f-b8e1-ab4f0fc9a3dc",
   "metadata": {},
   "outputs": [
    {
     "name": "stdout",
     "output_type": "stream",
     "text": [
      "[1, 4.5, 'A', 'Dev', (3+4j), 45]\n"
     ]
    }
   ],
   "source": [
    "l1 = [1,4.5,'A',\"Dev\",3+4j,45]\n",
    "print(l1)"
   ]
  },
  {
   "cell_type": "code",
   "execution_count": 91,
   "id": "9124a4bf-80b8-4f46-b100-d1bf6f6bae71",
   "metadata": {},
   "outputs": [
    {
     "name": "stdout",
     "output_type": "stream",
     "text": [
      "[1, 4.5, 'A', 'Dev', (3+4j), 45, 'Nirav']\n"
     ]
    }
   ],
   "source": [
    "l1.append(\"Nirav\") #append at end of the list\n",
    "print(l1)"
   ]
  },
  {
   "cell_type": "code",
   "execution_count": 99,
   "id": "eb0b7a82-5e23-4d57-b06a-c26a7e5348ae",
   "metadata": {},
   "outputs": [
    {
     "data": {
      "text/plain": [
       "1"
      ]
     },
     "execution_count": 99,
     "metadata": {},
     "output_type": "execute_result"
    }
   ],
   "source": [
    "l1.count(1) #count the number of occurrences of a particular element "
   ]
  },
  {
   "cell_type": "code",
   "execution_count": 100,
   "id": "b0a73ab0-0152-40e6-bc43-e5b678090894",
   "metadata": {},
   "outputs": [
    {
     "name": "stdout",
     "output_type": "stream",
     "text": [
      "[1, 4.5, 'A', 'Dev', (3+4j), 45, 'Nirav']\n"
     ]
    }
   ],
   "source": [
    "l2 = l1.copy() # copy the existing list into another list\n",
    "print(l2)"
   ]
  },
  {
   "cell_type": "code",
   "execution_count": 104,
   "id": "d0562527-bb67-43b8-8ccf-0e485eca180b",
   "metadata": {},
   "outputs": [
    {
     "name": "stdout",
     "output_type": "stream",
     "text": [
      "[1, 4.5, 'A', 'Dev', (3+4j), 45, 'Nirav', 1, 4.5, 'A', 'Dev', (3+4j), 45, 'Nirav', 1, 4.5, 'A', 'Dev', (3+4j), 45, 'Nirav', 1, 4.5, 'A', 'Dev', (3+4j), 45, 'Nirav', 1, 4.5, 'A', 'Dev', (3+4j), 45, 'Nirav']\n"
     ]
    }
   ],
   "source": [
    "l1.extend(l2) #extend l1 by adding element of l2 in it\n",
    "print(l1)"
   ]
  },
  {
   "cell_type": "code",
   "execution_count": 106,
   "id": "6ec2e081-c861-4961-8b79-24d2660cc0d8",
   "metadata": {},
   "outputs": [
    {
     "data": {
      "text/plain": [
       "3"
      ]
     },
     "execution_count": 106,
     "metadata": {},
     "output_type": "execute_result"
    }
   ],
   "source": [
    "l1.index('Dev') #chech index of particular element"
   ]
  },
  {
   "cell_type": "code",
   "execution_count": 113,
   "id": "de671db3-6f76-43d5-948c-4092f14f74e7",
   "metadata": {},
   "outputs": [
    {
     "name": "stdout",
     "output_type": "stream",
     "text": [
      "[1, 'N', 'N', 4.5, 'A', 'Dev', (3+4j), 45, 'Nirav', 1, 4.5, 1, 1, 'A', 'Dev', (3+4j), 45, 'Nirav', 1, 4.5, 'A', 'Dev', (3+4j), 45, 'Nirav', 1, 4.5, 'A', 'Dev', (3+4j), 45, 'Nirav', 1, 4.5, 'A', 'Dev', (3+4j), 45, 'Nirav']\n"
     ]
    }
   ],
   "source": [
    "l1.insert(1,'N') #insert element at given index\n",
    "print(l1)"
   ]
  },
  {
   "cell_type": "code",
   "execution_count": 116,
   "id": "080d64a7-8dfe-46a1-832f-3ddd88da4e0c",
   "metadata": {},
   "outputs": [
    {
     "name": "stdout",
     "output_type": "stream",
     "text": [
      "[1, 4.5, 'A', 'Dev', (3+4j)]\n"
     ]
    }
   ],
   "source": [
    "l2.pop() #remove element from the last position of list\n",
    "print(l2)"
   ]
  },
  {
   "cell_type": "code",
   "execution_count": 126,
   "id": "b9b86ab3-1bed-448a-a6d8-887928e5b0ad",
   "metadata": {},
   "outputs": [
    {
     "name": "stdout",
     "output_type": "stream",
     "text": [
      "[1, 'N', 'N', 4.5, 'A', (3+4j), 45, 1, 4.5, 1, 1, 'A', (3+4j), 45, 1, 4.5, 'A', 'Dev', (3+4j), 45, 1, 4.5, 'A', 'Dev', (3+4j), 45, 1, 4.5, 'A', 'Dev', (3+4j), 45]\n"
     ]
    }
   ],
   "source": [
    "l1.remove(\"Dev\") #remove given element occure at smaller position \n",
    "print(l1)"
   ]
  },
  {
   "cell_type": "code",
   "execution_count": 128,
   "id": "d2860709-2282-4f37-a4b9-b8ea9786abf3",
   "metadata": {},
   "outputs": [
    {
     "name": "stdout",
     "output_type": "stream",
     "text": [
      "[1, 4.5, 'A', 'Dev', (3+4j)]\n"
     ]
    }
   ],
   "source": [
    "l2.reverse()\n",
    "print(l2)"
   ]
  },
  {
   "cell_type": "code",
   "execution_count": 132,
   "id": "f82aab9a-1509-4d3e-aef3-ae9201ef9c85",
   "metadata": {},
   "outputs": [
    {
     "name": "stdout",
     "output_type": "stream",
     "text": [
      "[0, 4.5, 10, 23, 90, 99]\n"
     ]
    }
   ],
   "source": [
    "l3 = [99,23,4.5,10,90,0] #just work when numerical data is in the list\n",
    "l3.sort()\n",
    "print(l3)"
   ]
  },
  {
   "cell_type": "code",
   "execution_count": 134,
   "id": "ac84afe2-f95e-4bdd-9be1-3d2c0124aaf5",
   "metadata": {},
   "outputs": [
    {
     "name": "stdout",
     "output_type": "stream",
     "text": [
      "[]\n"
     ]
    }
   ],
   "source": [
    "l1.clear() #remove all element from list and make it empty\n",
    "print(l1)"
   ]
  },
  {
   "cell_type": "code",
   "execution_count": 178,
   "id": "111e5fa8-3a13-440d-9de6-6f97d99775a9",
   "metadata": {},
   "outputs": [],
   "source": [
    "del l1 #delete whole list\n",
    "# print(l1) # name 'l1' is not defined"
   ]
  },
  {
   "cell_type": "code",
   "execution_count": 147,
   "id": "ff1df922-f5a8-4fd2-b625-1651d3ea70f5",
   "metadata": {},
   "outputs": [
    {
     "name": "stdout",
     "output_type": "stream",
     "text": [
      "[1, 2, 3, ['N', 56, 90], 'Nirav']\n"
     ]
    }
   ],
   "source": [
    "#nexted list\n",
    "l4 = [1,2,3,['N',56,90],\"Nirav\"]\n",
    "print(l4)"
   ]
  },
  {
   "cell_type": "code",
   "execution_count": 180,
   "id": "ed7ed94f-6a2e-4206-81eb-507f4f32c9d8",
   "metadata": {},
   "outputs": [
    {
     "name": "stdout",
     "output_type": "stream",
     "text": [
      "[1, 2, 3, ['N', 56, 90], 'Nirav', [100, 300], [100, 300], [100, 300], [100, 300]]\n"
     ]
    }
   ],
   "source": [
    "l4.extend([[100,300]])# add list at last position of list\n",
    "print(l4)"
   ]
  },
  {
   "cell_type": "code",
   "execution_count": 186,
   "id": "dbb57e6e-4f32-4bfc-8107-fbd86bd80ad7",
   "metadata": {},
   "outputs": [
    {
     "name": "stdout",
     "output_type": "stream",
     "text": [
      "True\n"
     ]
    }
   ],
   "source": [
    "exists = 3 in l4 #chech if the given element is in the list or not\n",
    "print(exists)"
   ]
  },
  {
   "cell_type": "code",
   "execution_count": 185,
   "id": "e507657b-1bbb-4ab6-8fc3-957e5802bbfb",
   "metadata": {},
   "outputs": [
    {
     "name": "stdout",
     "output_type": "stream",
     "text": [
      "[1, 2, 3, ['N', 56, 90], 'Nirav', [100, 300], [100, 300], [100, 300], [100, 300], 9, 10]\n"
     ]
    }
   ],
   "source": [
    "new = l4 + [9, 10] #concate list\n",
    "print(new)"
   ]
  },
  {
   "cell_type": "markdown",
   "id": "4ec976f4-4a0c-4f85-867d-1ca14e158c84",
   "metadata": {},
   "source": [
    "# Tuples in Python"
   ]
  },
  {
   "cell_type": "markdown",
   "id": "db6933b5-ffd7-4d65-9a13-12a973c1b755",
   "metadata": {},
   "source": [
    "A Tuple is a collection of data.  \n",
    "It can hold values of multiple data types.   \n",
    "created using '( )' brackets\n",
    "It is Mutable.  \n",
    "It allows duplicates in it.  \n",
    "It is Ordered\n",
    "\n",
    "used when  \n",
    "-Immutability is Preferred:  \n",
    "-Faster Access:  \n",
    "-Fixed Size:  \n",
    "-Used as Keys in Dictionaries yed.\n",
    "\n"
   ]
  },
  {
   "cell_type": "code",
   "execution_count": 191,
   "id": "e5c32814-72ed-47e2-bfa6-b886dce813c6",
   "metadata": {},
   "outputs": [
    {
     "name": "stdout",
     "output_type": "stream",
     "text": [
      "(1, 45, 67, 'Dev', 'N')\n",
      "(1, 5, 6, 8, 2)\n",
      "(42,)\n"
     ]
    }
   ],
   "source": [
    "tp = (1,45,67,\"Dev\",'N')\n",
    "print(tp)\n",
    "\n",
    "tp1 = 1,5,6,8,2 # can be created without using brackets\n",
    "print(tp1)\n",
    "\n",
    "tp2 = (42,)\n",
    "print(tp2)"
   ]
  },
  {
   "cell_type": "code",
   "execution_count": 192,
   "id": "859c271e-653b-4b4f-8b02-fe41319eeca0",
   "metadata": {},
   "outputs": [
    {
     "name": "stdout",
     "output_type": "stream",
     "text": [
      "45\n",
      "(45, 67, 'Dev', 'N')\n",
      "('N', 'Dev', 67, 45, 1)\n",
      "(45, 67)\n"
     ]
    }
   ],
   "source": [
    "# accessing\n",
    "print(tp[1])\n",
    "\n",
    "print(tp[1:])\n",
    "\n",
    "print(tp[::-1])\n",
    "\n",
    "print(tp[1:3])"
   ]
  },
  {
   "cell_type": "code",
   "execution_count": 193,
   "id": "d60224fa-8e1c-4726-8be1-b5c9ee4edae1",
   "metadata": {},
   "outputs": [
    {
     "name": "stdout",
     "output_type": "stream",
     "text": [
      "(1, 45, 67, 'Dev', 'N', 1, 5, 6, 8, 2)\n"
     ]
    }
   ],
   "source": [
    "#concate the tuples\n",
    "new = tp + tp1\n",
    "print(new)"
   ]
  },
  {
   "cell_type": "code",
   "execution_count": 169,
   "id": "ea26912f-acec-4714-8908-a3d118f53431",
   "metadata": {},
   "outputs": [
    {
     "name": "stdout",
     "output_type": "stream",
     "text": [
      "(5, 6, 7, 8)\n",
      "5 7 6 8\n",
      "5 [6, 7, 8]\n"
     ]
    }
   ],
   "source": [
    "#packing and unpacking tuples\n",
    "tpl = 5,6,7,8\n",
    "print(tpl) #packing\n",
    "\n",
    "a,c,b,d = tpl\n",
    "print(a,b,c,d) #unpacking\n",
    "\n",
    "a, *ls = tpl\n",
    "print(a,ls)"
   ]
  },
  {
   "cell_type": "code",
   "execution_count": 195,
   "id": "1b3e7e87-cf0a-447f-bccd-8cf68d4f400f",
   "metadata": {},
   "outputs": [
    {
     "name": "stdout",
     "output_type": "stream",
     "text": [
      "1 2\n"
     ]
    }
   ],
   "source": [
    "(a,b) = (1,2) # also an example of uppacking\n",
    "print(a,b)"
   ]
  },
  {
   "cell_type": "markdown",
   "id": "e427de83-430a-4f53-8f95-de10c494107c",
   "metadata": {},
   "source": [
    "# Function of tuples"
   ]
  },
  {
   "cell_type": "code",
   "execution_count": 171,
   "id": "c0c63f42-743e-4cbf-b30e-27ac8f770a8b",
   "metadata": {},
   "outputs": [
    {
     "data": {
      "text/plain": [
       "1"
      ]
     },
     "execution_count": 171,
     "metadata": {},
     "output_type": "execute_result"
    }
   ],
   "source": [
    "tp.count(45)"
   ]
  },
  {
   "cell_type": "code",
   "execution_count": 175,
   "id": "0580017d-7d86-4b6a-9ae2-6875ee64b4b1",
   "metadata": {},
   "outputs": [
    {
     "data": {
      "text/plain": [
       "4"
      ]
     },
     "execution_count": 175,
     "metadata": {},
     "output_type": "execute_result"
    }
   ],
   "source": [
    "tp.index('N')"
   ]
  },
  {
   "cell_type": "markdown",
   "id": "c6d167e4-50bf-4443-9352-6c02da568180",
   "metadata": {},
   "source": [
    "# Sets in Python"
   ]
  },
  {
   "cell_type": "markdown",
   "id": "1e3dfb44-a5a5-4fc1-9b94-defd6f47919a",
   "metadata": {},
   "source": [
    "A set is an unordered collection of unique elements.  \n",
    "It is defined by enclosing a comma-separated sequence of elements within curly braces {}  \n",
    "They don't allow duplicate elements.  \n",
    "Their order is not guaranteed  \n",
    "sets are unmutable  \n",
    "\n",
    "\n",
    "use when:  \n",
    "-Removing Duplicates:\r",
    "\r\n",
    "Sets are ideal for removing duplicate elements from a collection. By converting a list or another iterable to a set, you automatically eliminate duplicate \n",
    "\n",
    "-Membership Testing:\r",
    "\r\n",
    "Sets provide efficient membership testing. Checking whether an element is present in a set is faster than doing the same check in a lis  \n",
    "\n",
    "-Set Operations:\r",
    "\r\n",
    "Sets support various set operations like union, intersection, and difference, making them useful for working with distinct element  \n",
    "\n",
    "-Mathematical Operations:\r",
    "\r\n",
    "Sets are useful for performing mathematical operations, such as finding the intersection or difference between set  \n",
    "\n",
    "-Checking for Uniqueness:\r",
    "\r\n",
    "When dealing with a collection of elements and you want to ensure each element is unique, sets provide a natural choic  \n",
    "\n",
    "-Caching and Memoization:\r",
    "\r\n",
    "Sets can be used in scenarios where you need to cache or memoize function results. You can store unique function inputs or outputs in a set to avoid redundant calculation  \n",
    "hon\r\n",
    "e.s.\n",
    "t.\n",
    "s."
   ]
  },
  {
   "cell_type": "code",
   "execution_count": 5,
   "id": "be958e75-e7ed-415c-bed0-70a72f569789",
   "metadata": {},
   "outputs": [
    {
     "name": "stdout",
     "output_type": "stream",
     "text": [
      "{1, 2, 3.5, 67, 'Nirav', 45, 23, 'D'}\n"
     ]
    }
   ],
   "source": [
    "set = {1,2,45,67,23,\"Nirav\",'D',3.5}\n",
    "set1 = {\"Nirav\",'D',3,2}\n",
    "print(set)\n"
   ]
  },
  {
   "cell_type": "code",
   "execution_count": 299,
   "id": "c2f607c9-222b-4712-bbba-4b48b3314612",
   "metadata": {},
   "outputs": [
    {
     "name": "stdout",
     "output_type": "stream",
     "text": [
      "{1, 2, 67, 3.5, 'D', 45, 'Dev', 23, 'Nirav'}\n"
     ]
    }
   ],
   "source": [
    "set.add(\"Dev\") #can add anywhere in set\n",
    "print(set)"
   ]
  },
  {
   "cell_type": "code",
   "execution_count": 207,
   "id": "46d7198b-75de-4e28-8146-3662039562b0",
   "metadata": {},
   "outputs": [
    {
     "name": "stdout",
     "output_type": "stream",
     "text": [
      "{1, 2, 67, 3.5, 'D', 45, 'Dev', 23, 'Nirav'}\n"
     ]
    }
   ],
   "source": [
    "copy_set = set.copy() #copy the set \n",
    "print(copy_set)"
   ]
  },
  {
   "cell_type": "code",
   "execution_count": 300,
   "id": "884f7e5c-0a5f-470d-8b4e-ad9aec5f64b9",
   "metadata": {},
   "outputs": [
    {
     "name": "stdout",
     "output_type": "stream",
     "text": [
      "{1, 3.5, 67, 45, 'Dev', 23}\n"
     ]
    }
   ],
   "source": [
    "res = set.difference(set1) # its like A - B. remove same elements of the set\n",
    "print(res)"
   ]
  },
  {
   "cell_type": "code",
   "execution_count": 301,
   "id": "7a1a7545-71c7-4690-87f0-6a4bf0605cce",
   "metadata": {},
   "outputs": [
    {
     "data": {
      "text/plain": [
       "{1, 23, 3.5, 45, 67, 'Dev'}"
      ]
     },
     "execution_count": 301,
     "metadata": {},
     "output_type": "execute_result"
    }
   ],
   "source": [
    "set.difference_update(set1) # directly update an original set\n",
    "set"
   ]
  },
  {
   "cell_type": "code",
   "execution_count": 302,
   "id": "ca608bed-577b-4986-9a0e-555a787497ac",
   "metadata": {},
   "outputs": [
    {
     "data": {
      "text/plain": [
       "{1, 23, 3.5, 45, 'Dev'}"
      ]
     },
     "execution_count": 302,
     "metadata": {},
     "output_type": "execute_result"
    }
   ],
   "source": [
    "set.discard(67) #direct discard element of set\n",
    "set"
   ]
  },
  {
   "cell_type": "code",
   "execution_count": 303,
   "id": "72c85169-cdfc-4963-9d0d-678f34279a73",
   "metadata": {},
   "outputs": [
    {
     "data": {
      "text/plain": [
       "{1, 23, 3.5, 45, 'Dev'}"
      ]
     },
     "execution_count": 303,
     "metadata": {},
     "output_type": "execute_result"
    }
   ],
   "source": [
    "set.intersection(copy_set) #show same element of both the set "
   ]
  },
  {
   "cell_type": "code",
   "execution_count": 305,
   "id": "be4cb260-12da-4269-9cf0-3c05b3fd5bd3",
   "metadata": {},
   "outputs": [
    {
     "data": {
      "text/plain": [
       "{1, 23, 3.5, 45, 'Dev'}"
      ]
     },
     "execution_count": 305,
     "metadata": {},
     "output_type": "execute_result"
    }
   ],
   "source": [
    "set.intersection_update(copy_set) #set with common element\n",
    "set"
   ]
  },
  {
   "cell_type": "code",
   "execution_count": 306,
   "id": "4829765b-a962-48e5-beed-eb7e926c99b5",
   "metadata": {},
   "outputs": [
    {
     "data": {
      "text/plain": [
       "True"
      ]
     },
     "execution_count": 306,
     "metadata": {},
     "output_type": "execute_result"
    }
   ],
   "source": [
    "set.isdisjoint(copy_set) #False (there is commom element) \n",
    "set.isdisjoint(set1) #True (there is no common element)"
   ]
  },
  {
   "cell_type": "code",
   "execution_count": 307,
   "id": "1beef893-81e2-47c0-b7db-ac342381087a",
   "metadata": {},
   "outputs": [
    {
     "data": {
      "text/plain": [
       "True"
      ]
     },
     "execution_count": 307,
     "metadata": {},
     "output_type": "execute_result"
    }
   ],
   "source": [
    "set.issubset(set1) #false (no common)\n",
    "set.issubset(copy_set) #True (common element)"
   ]
  },
  {
   "cell_type": "code",
   "execution_count": 308,
   "id": "fa9560f9-f04f-4359-8967-d4603f766337",
   "metadata": {},
   "outputs": [
    {
     "data": {
      "text/plain": [
       "False"
      ]
     },
     "execution_count": 308,
     "metadata": {},
     "output_type": "execute_result"
    }
   ],
   "source": [
    "set1 = {1,2,3,4}\n",
    "set2 = {1,2,3,4,5,6,7}\n",
    "set1.issuperset(set2) #false (converse true)\n"
   ]
  },
  {
   "cell_type": "code",
   "execution_count": 309,
   "id": "e7ac881e-731c-43bf-9706-e99994592114",
   "metadata": {},
   "outputs": [
    {
     "data": {
      "text/plain": [
       "True"
      ]
     },
     "execution_count": 309,
     "metadata": {},
     "output_type": "execute_result"
    }
   ],
   "source": [
    "set1.issubset(set2)"
   ]
  },
  {
   "cell_type": "code",
   "execution_count": 269,
   "id": "de096484-bf5b-45e5-9189-207547805da7",
   "metadata": {},
   "outputs": [
    {
     "data": {
      "text/plain": [
       "2"
      ]
     },
     "execution_count": 269,
     "metadata": {},
     "output_type": "execute_result"
    }
   ],
   "source": [
    "set1.pop() #remove any element"
   ]
  },
  {
   "cell_type": "code",
   "execution_count": 279,
   "id": "a12c758e-4efa-4869-8474-6fe046ba1701",
   "metadata": {},
   "outputs": [
    {
     "data": {
      "text/plain": [
       "{1, 2}"
      ]
     },
     "execution_count": 279,
     "metadata": {},
     "output_type": "execute_result"
    }
   ],
   "source": [
    "set1.remove(3)\n",
    "set1"
   ]
  },
  {
   "cell_type": "code",
   "execution_count": 310,
   "id": "0f93c1d2-d856-43ff-b1e3-8d3505aa7f4b",
   "metadata": {},
   "outputs": [
    {
     "data": {
      "text/plain": [
       "{1, 2, 3, 4, 5, 6, 7}"
      ]
     },
     "execution_count": 310,
     "metadata": {},
     "output_type": "execute_result"
    }
   ],
   "source": [
    "set1.union(set2)"
   ]
  },
  {
   "cell_type": "code",
   "execution_count": 311,
   "id": "4b5eb296-5c37-41b8-afc8-d1c930068528",
   "metadata": {},
   "outputs": [
    {
     "data": {
      "text/plain": [
       "{1, 2, 3, 4}"
      ]
     },
     "execution_count": 311,
     "metadata": {},
     "output_type": "execute_result"
    }
   ],
   "source": [
    "set1.intersection(set2)"
   ]
  },
  {
   "cell_type": "code",
   "execution_count": 312,
   "id": "9f3def68-68bb-46ce-a9d7-a88b55f36672",
   "metadata": {},
   "outputs": [
    {
     "data": {
      "text/plain": [
       "{1, 2, 3, 4}"
      ]
     },
     "execution_count": 312,
     "metadata": {},
     "output_type": "execute_result"
    }
   ],
   "source": [
    "set1.update()\n",
    "set1"
   ]
  },
  {
   "cell_type": "code",
   "execution_count": 315,
   "id": "30703a9f-bbe7-4fa7-b610-3d44e5745b2b",
   "metadata": {},
   "outputs": [
    {
     "data": {
      "text/plain": [
       "{1, 2, 3, 4}"
      ]
     },
     "execution_count": 315,
     "metadata": {},
     "output_type": "execute_result"
    }
   ],
   "source": [
    "set.symmetric_difference_update(set1) #keeping only the elements that are unique to either set\n",
    "#directly modifies the original set\n",
    "set1"
   ]
  },
  {
   "cell_type": "code",
   "execution_count": 319,
   "id": "ad3f7be0-8e89-4ed6-b27e-5168b4551b52",
   "metadata": {},
   "outputs": [
    {
     "data": {
      "text/plain": [
       "set()"
      ]
     },
     "execution_count": 319,
     "metadata": {},
     "output_type": "execute_result"
    }
   ],
   "source": [
    "set.clear()\n",
    "set"
   ]
  },
  {
   "cell_type": "code",
   "execution_count": 3,
   "id": "e3546fb4-7f79-44ac-9f93-0e4e51872834",
   "metadata": {},
   "outputs": [
    {
     "name": "stdout",
     "output_type": "stream",
     "text": [
      "{1, 2, 3, 4, 5}\n"
     ]
    }
   ],
   "source": [
    "original_list = [1, 2, 3, 1, 2, 4, 5]\n",
    "unique_set = set(original_list)\n",
    "print(unique_set)"
   ]
  },
  {
   "cell_type": "code",
   "execution_count": 7,
   "id": "f8654256-c9b2-410f-bb13-599c96b34091",
   "metadata": {},
   "outputs": [
    {
     "name": "stdout",
     "output_type": "stream",
     "text": [
      "True\n"
     ]
    }
   ],
   "source": [
    "print(3 in set1)"
   ]
  },
  {
   "cell_type": "code",
   "execution_count": 2,
   "id": "83d7988e-d661-4504-b567-bcbdb126957a",
   "metadata": {},
   "outputs": [
    {
     "name": "stdout",
     "output_type": "stream",
     "text": [
      "[1, 2, 3, 3, 4, 5, 34]\n",
      "{1, 2, 3, 4, 5, 34}\n"
     ]
    }
   ],
   "source": [
    "l1 = [1,2,3,3,4,5,34]\n",
    "print(l1)\n",
    "print(set(l1))"
   ]
  },
  {
   "cell_type": "markdown",
   "id": "b354a994-d0e7-42bd-a338-6837017b1399",
   "metadata": {},
   "source": [
    "# Arithmatic Operarors"
   ]
  },
  {
   "cell_type": "code",
   "execution_count": 4,
   "id": "9ebb50f6-864b-4ea7-ab6d-88b2091cb61b",
   "metadata": {},
   "outputs": [],
   "source": [
    "a , b = 5 , 10"
   ]
  },
  {
   "cell_type": "code",
   "execution_count": 10,
   "id": "79c59c66-88c7-40fa-9540-d6fa7a0d2875",
   "metadata": {},
   "outputs": [
    {
     "name": "stdout",
     "output_type": "stream",
     "text": [
      "a+b: 15\n",
      "a-b: -5\n",
      "a*b: 50\n",
      "a/b: 0.5\n",
      "a%b: 5\n",
      "a//b: 0\n",
      "a**b: 9765625\n"
     ]
    }
   ],
   "source": [
    "print(\"a+b:\", a+b)\n",
    "print(\"a-b:\", a-b)\n",
    "print(\"a*b:\", a*b)\n",
    "print(\"a/b:\", a/b) \n",
    "print(\"a%b:\", a%b)\n",
    "print(\"a//b:\",a//b) #gives integer if decimal values are there\n",
    "print(\"a**b:\", a**b)"
   ]
  },
  {
   "cell_type": "code",
   "execution_count": 13,
   "id": "0f74ea9f-bfaf-4c3e-b4d6-0818dfa1ae8e",
   "metadata": {},
   "outputs": [
    {
     "name": "stdout",
     "output_type": "stream",
     "text": [
      "7\n"
     ]
    }
   ],
   "source": [
    "count = 5\n",
    "count = count + 1\n",
    "count +=1\n",
    "print(count)"
   ]
  },
  {
   "cell_type": "markdown",
   "id": "2bb032a9-d895-4202-95ee-4c421259bf01",
   "metadata": {},
   "source": [
    "# Relational Operator"
   ]
  },
  {
   "cell_type": "code",
   "execution_count": 22,
   "id": "301fbaf7-b59a-4df6-9aa5-e2a07e1bb0ca",
   "metadata": {},
   "outputs": [],
   "source": [
    "a,b = 23,34"
   ]
  },
  {
   "cell_type": "code",
   "execution_count": 24,
   "id": "dcd5ed9d-8079-4d37-a61e-8ed53586b51d",
   "metadata": {},
   "outputs": [
    {
     "name": "stdout",
     "output_type": "stream",
     "text": [
      "True\n",
      "False\n",
      "False\n",
      "True\n",
      "False\n",
      "True\n"
     ]
    }
   ],
   "source": [
    "print(a<b)\n",
    "print(a>b)\n",
    "print(a>=b)\n",
    "print(a<=b)\n",
    "print(a==b)\n",
    "print(a!=b)"
   ]
  },
  {
   "cell_type": "markdown",
   "id": "de7355c6-42ad-4548-9eea-7d048fdfa0b7",
   "metadata": {},
   "source": [
    "# Logical Operator"
   ]
  },
  {
   "cell_type": "code",
   "execution_count": 26,
   "id": "9caa39ce-3b17-48f0-a62c-9a229d670eef",
   "metadata": {},
   "outputs": [],
   "source": [
    "a,b,c = 23,56,78"
   ]
  },
  {
   "cell_type": "code",
   "execution_count": 31,
   "id": "cd526eff-c3a9-4b92-be93-ebcf68eb982f",
   "metadata": {},
   "outputs": [
    {
     "name": "stdout",
     "output_type": "stream",
     "text": [
      "False\n",
      "True\n",
      "False\n"
     ]
    }
   ],
   "source": [
    "print((a > b) and (b>c))\n",
    "print((a < b) or (b>c))\n",
    "print((a != b) and (a==b))"
   ]
  },
  {
   "cell_type": "markdown",
   "id": "50e68b02-8270-42ee-bf6e-1f134566d8e1",
   "metadata": {},
   "source": [
    "# Bitwise Operator"
   ]
  },
  {
   "cell_type": "code",
   "execution_count": 33,
   "id": "54a49c09-721e-48b0-909f-0275ec4cd20d",
   "metadata": {},
   "outputs": [],
   "source": [
    "a,b = 7,5"
   ]
  },
  {
   "cell_type": "code",
   "execution_count": 36,
   "id": "85aecc7a-8f95-47e0-bab8-704a85ea9c7b",
   "metadata": {},
   "outputs": [
    {
     "name": "stdout",
     "output_type": "stream",
     "text": [
      "0b111 0b101\n"
     ]
    }
   ],
   "source": [
    "print(bin(a), bin(b))"
   ]
  },
  {
   "cell_type": "markdown",
   "id": "39204d74-d225-4d36-abce-cda3ea69f8a1",
   "metadata": {},
   "source": [
    "Here 0b denotes it is binary and 111 means 7 and 101 means 5"
   ]
  },
  {
   "cell_type": "code",
   "execution_count": 39,
   "id": "e48c6df7-49cc-4f75-9d27-a977f5c4759f",
   "metadata": {},
   "outputs": [
    {
     "name": "stdout",
     "output_type": "stream",
     "text": [
      "5\n"
     ]
    }
   ],
   "source": [
    "print(a & b) #(Bitwise AND)\n",
    "#a = 111\n",
    "#b = 101\n",
    "# a&b = 101 (1&1 = 1 , 1&0 = 0)"
   ]
  },
  {
   "cell_type": "code",
   "execution_count": 42,
   "id": "0afa2305-f730-4ee5-bfd0-11fdef890c14",
   "metadata": {},
   "outputs": [
    {
     "name": "stdout",
     "output_type": "stream",
     "text": [
      "7\n"
     ]
    }
   ],
   "source": [
    "print(a|b) #(Bitwise OR)\n",
    "#a = 111\n",
    "#b = 101\n",
    "# a|b = 111 (0|0 = 0, 1|1=1 , 1|0=1)"
   ]
  },
  {
   "cell_type": "code",
   "execution_count": 46,
   "id": "2d545372-4c5d-4133-be6d-1f597d63e989",
   "metadata": {},
   "outputs": [
    {
     "name": "stdout",
     "output_type": "stream",
     "text": [
      "2\n"
     ]
    }
   ],
   "source": [
    "print(a^b) #(Bitwise XOR)\n",
    "#a=111\n",
    "#b=101\n",
    "#a^b=010 (1&1=0 , 0&1=1)"
   ]
  },
  {
   "cell_type": "code",
   "execution_count": 51,
   "id": "3c77ec2b-4d1a-447d-a765-9f18ed58073c",
   "metadata": {},
   "outputs": [
    {
     "name": "stdout",
     "output_type": "stream",
     "text": [
      "-0b1000\n",
      "-8\n",
      "-0b110\n",
      "-6\n"
     ]
    }
   ],
   "source": [
    "#Complement\n",
    "print(bin(~a))\n",
    "print(~a)\n",
    "print(bin(~b))\n",
    "print(~b)"
   ]
  },
  {
   "cell_type": "code",
   "execution_count": 57,
   "id": "22ab4810-7939-442a-b8c4-fd8bcdef39e0",
   "metadata": {},
   "outputs": [
    {
     "name": "stdout",
     "output_type": "stream",
     "text": [
      "0b11100\n",
      "28\n",
      "0b1\n",
      "1\n"
     ]
    }
   ],
   "source": [
    "print(bin(a<<2))\n",
    "print(a<<2) #left shift\n",
    "print(bin(a>>2))\n",
    "print(a>>2) #right shift"
   ]
  },
  {
   "cell_type": "markdown",
   "id": "3beebbe9-9992-4c29-b499-6263e8cbaa08",
   "metadata": {},
   "source": [
    "# Membership Operator"
   ]
  },
  {
   "cell_type": "code",
   "execution_count": 62,
   "id": "72a04674-eced-4da6-83af-a56e13510ce9",
   "metadata": {},
   "outputs": [
    {
     "name": "stdout",
     "output_type": "stream",
     "text": [
      "True\n",
      "True\n"
     ]
    }
   ],
   "source": [
    "list = [1,2,3,4]\n",
    "x = 23\n",
    "y = 4\n",
    "print(x not in list)\n",
    "print(y in list)"
   ]
  },
  {
   "cell_type": "markdown",
   "id": "3cd7f24f-f06e-4810-903d-1de3de699777",
   "metadata": {},
   "source": [
    "# Identity Operator"
   ]
  },
  {
   "cell_type": "code",
   "execution_count": 9,
   "id": "991d53d2-e3b4-490d-ab1b-2a2305bff559",
   "metadata": {},
   "outputs": [],
   "source": [
    "a =2\n",
    "b =2"
   ]
  },
  {
   "cell_type": "code",
   "execution_count": 10,
   "id": "68cf0fd9-e907-438f-9b3a-45035fe7b1e2",
   "metadata": {},
   "outputs": [
    {
     "name": "stdout",
     "output_type": "stream",
     "text": [
      "True\n",
      "False\n"
     ]
    }
   ],
   "source": [
    "print(a is b) \n",
    "# It gives True because when we assign same value to the different vatiable, it store at the same address in the memory\n",
    "print(a is not b)"
   ]
  }
 ],
 "metadata": {
  "kernelspec": {
   "display_name": "Python 3 (ipykernel)",
   "language": "python",
   "name": "python3"
  },
  "language_info": {
   "codemirror_mode": {
    "name": "ipython",
    "version": 3
   },
   "file_extension": ".py",
   "mimetype": "text/x-python",
   "name": "python",
   "nbconvert_exporter": "python",
   "pygments_lexer": "ipython3",
   "version": "3.11.5"
  }
 },
 "nbformat": 4,
 "nbformat_minor": 5
}
